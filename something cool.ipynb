{
 "cells": [
  {
   "cell_type": "markdown",
   "id": "e7091e8e-0137-4565-bf2d-730ade9ef3d3",
   "metadata": {},
   "source": [
    "#hey\n"
   ]
  },
  {
   "cell_type": "code",
   "execution_count": 2,
   "id": "f317fb22-17c9-4a4c-a268-95d0d3b607fe",
   "metadata": {},
   "outputs": [],
   "source": [
    "a=1+2"
   ]
  },
  {
   "cell_type": "code",
   "execution_count": null,
   "id": "1cfcbe30-ef74-4e1c-acde-e5a05389be45",
   "metadata": {},
   "outputs": [],
   "source": []
  },
  {
   "cell_type": "code",
   "execution_count": 3,
   "id": "2328d5af-f7e3-4163-b5ed-c696585c8f59",
   "metadata": {},
   "outputs": [
    {
     "name": "stdout",
     "output_type": "stream",
     "text": [
      "3\n"
     ]
    }
   ],
   "source": [
    "print(a)"
   ]
  },
  {
   "cell_type": "code",
   "execution_count": 11,
   "id": "bbbf603e-6a53-4ff1-89ae-f60ff9995529",
   "metadata": {},
   "outputs": [],
   "source": [
    "from numbers import Number\n",
    "\n",
    "def add(a: Number, b: Number) -> Number:\n",
    "    return a+b"
   ]
  },
  {
   "cell_type": "code",
   "execution_count": 12,
   "id": "f9af5646-a615-40d3-a947-9a11378d7c61",
   "metadata": {},
   "outputs": [],
   "source": [
    "from numbers import Number\n",
    "\n",
    "def multiply(a: Number, b: Number) -> Number:\n",
    "    return a*b"
   ]
  }
 ],
 "metadata": {
  "kernelspec": {
   "display_name": "Python 3 (ipykernel)",
   "language": "python",
   "name": "python3"
  },
  "language_info": {
   "codemirror_mode": {
    "name": "ipython",
    "version": 3
   },
   "file_extension": ".py",
   "mimetype": "text/x-python",
   "name": "python",
   "nbconvert_exporter": "python",
   "pygments_lexer": "ipython3",
   "version": "3.11.10"
  }
 },
 "nbformat": 4,
 "nbformat_minor": 5
}
